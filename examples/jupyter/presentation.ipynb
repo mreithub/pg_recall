{
 "cells": [
  {
   "cell_type": "markdown",
   "metadata": {
    "slideshow": {
     "slide_type": "slide"
    }
   },
   "source": [
    "# pg_recall\n",
    "\n",
    "a time machine for your PostgreSQL data"
   ]
  },
  {
   "cell_type": "code",
   "execution_count": 1,
   "metadata": {
    "collapsed": false,
    "slideshow": {
     "slide_type": "fragment"
    }
   },
   "outputs": [
    {
     "name": "stdout",
     "output_type": "stream",
     "text": [
      "ok"
     ]
    }
   ],
   "source": [
    "\\connect host=localhost user=manuel database=postgres nopassword"
   ]
  },
  {
   "cell_type": "markdown",
   "metadata": {
    "slideshow": {
     "slide_type": "slide"
    }
   },
   "source": [
    "## what it's for"
   ]
  },
  {
   "cell_type": "markdown",
   "metadata": {
    "slideshow": {
     "slide_type": "subslide"
    }
   },
   "source": [
    "keeps track of data changes to your tables"
   ]
  },
  {
   "cell_type": "markdown",
   "metadata": {
    "slideshow": {
     "slide_type": "fragment"
    }
   },
   "source": [
    "- look at past states of your tables"
   ]
  },
  {
   "cell_type": "markdown",
   "metadata": {
    "slideshow": {
     "slide_type": "fragment"
    }
   },
   "source": [
    "- list changes for individual keys"
   ]
  },
  {
   "cell_type": "markdown",
   "metadata": {
    "slideshow": {
     "slide_type": "fragment"
    }
   },
   "source": [
    "- allows you to implement tools to automate that\n",
    " - undo/redo buttons\n",
    " - Revision history page\n",
    " - a backend for customer service where they can see what the user did\n",
    " - look for data/users that behave oddly"
   ]
  },
  {
   "cell_type": "markdown",
   "metadata": {
    "slideshow": {
     "slide_type": "subslide"
    }
   },
   "source": [
    "for...\n",
    "- user data \n",
    "- logging metrics"
   ]
  },
  {
   "cell_type": "markdown",
   "metadata": {
    "slideshow": {
     "slide_type": "fragment"
    }
   },
   "source": [
    "... data that doesn't change too often\n",
    "\n",
    "(*often* being very malleable here)"
   ]
  },
  {
   "cell_type": "markdown",
   "metadata": {
    "slideshow": {
     "slide_type": "slide"
    }
   },
   "source": [
    "## design goals"
   ]
  },
  {
   "cell_type": "markdown",
   "metadata": {
    "slideshow": {
     "slide_type": "subslide"
    }
   },
   "source": [
    "CRUD transparency"
   ]
  },
  {
   "cell_type": "markdown",
   "metadata": {
    "slideshow": {
     "slide_type": "subslide"
    }
   },
   "source": [
    "simplicity"
   ]
  },
  {
   "cell_type": "markdown",
   "metadata": {
    "slideshow": {
     "slide_type": "subslide"
    }
   },
   "source": [
    "flexibility"
   ]
  },
  {
   "cell_type": "markdown",
   "metadata": {
    "slideshow": {
     "slide_type": "subslide"
    }
   },
   "source": [
    "little overhead"
   ]
  },
  {
   "cell_type": "markdown",
   "metadata": {
    "slideshow": {
     "slide_type": "slide"
    }
   },
   "source": [
    "## design choices"
   ]
  },
  {
   "cell_type": "markdown",
   "metadata": {
    "slideshow": {
     "slide_type": "subslide"
    }
   },
   "source": [
    "storage is (relatively) cheap\n",
    "- logs rows, not individual fields\n",
    "- detects unchanged rows\n",
    "- each table has a retention interval"
   ]
  },
  {
   "cell_type": "markdown",
   "metadata": {
    "slideshow": {
     "slide_type": "subslide"
    }
   },
   "source": [
    "separate log tables"
   ]
  },
  {
   "cell_type": "markdown",
   "metadata": {
    "slideshow": {
     "slide_type": "subslide"
    }
   },
   "source": [
    "timestamps identify revisions"
   ]
  },
  {
   "cell_type": "code",
   "execution_count": null,
   "metadata": {
    "collapsed": false,
    "slideshow": {
     "slide_type": "fragment"
    }
   },
   "outputs": [],
   "source": [
    "BEGIN;\n",
    "SELECT now();"
   ]
  },
  {
   "cell_type": "code",
   "execution_count": null,
   "metadata": {
    "collapsed": false,
    "slideshow": {
     "slide_type": "fragment"
    }
   },
   "outputs": [],
   "source": [
    "SELECT now();"
   ]
  },
  {
   "cell_type": "code",
   "execution_count": null,
   "metadata": {
    "collapsed": false,
    "slideshow": {
     "slide_type": "fragment"
    }
   },
   "outputs": [],
   "source": [
    "ROLLBACK;"
   ]
  },
  {
   "cell_type": "markdown",
   "metadata": {
    "slideshow": {
     "slide_type": "subslide"
    }
   },
   "source": [
    "`tstzrange` as revision identifier"
   ]
  },
  {
   "cell_type": "markdown",
   "metadata": {
    "slideshow": {
     "slide_type": "subslide"
    }
   },
   "source": [
    "no constraints in the log table"
   ]
  },
  {
   "cell_type": "markdown",
   "metadata": {
    "slideshow": {
     "slide_type": "slide"
    }
   },
   "source": [
    "## Restrictions"
   ]
  },
  {
   "cell_type": "markdown",
   "metadata": {
    "slideshow": {
     "slide_type": "subslide"
    }
   },
   "source": [
    "it protects user data, not schema changes"
   ]
  },
  {
   "cell_type": "markdown",
   "metadata": {
    "slideshow": {
     "slide_type": "subslide"
    }
   },
   "source": [
    "manual cleanup"
   ]
  },
  {
   "cell_type": "markdown",
   "metadata": {
    "slideshow": {
     "slide_type": "subslide"
    }
   },
   "source": [
    "storage overhead"
   ]
  },
  {
   "cell_type": "markdown",
   "metadata": {
    "slideshow": {
     "slide_type": "subslide"
    }
   },
   "source": [
    "depends on `btree_gist`"
   ]
  },
  {
   "cell_type": "markdown",
   "metadata": {
    "slideshow": {
     "slide_type": "slide"
    }
   },
   "source": [
    "## Functions"
   ]
  },
  {
   "cell_type": "code",
   "execution_count": null,
   "metadata": {
    "collapsed": true,
    "slideshow": {
     "slide_type": "subslide"
    }
   },
   "outputs": [],
   "source": [
    "SELECT recall.enable('myTable', '3 months');\n",
    "SELECT recall.enable('someSchema.otherTable', '1 year', 'targetSchema');"
   ]
  },
  {
   "cell_type": "code",
   "execution_count": null,
   "metadata": {
    "collapsed": true,
    "slideshow": {
     "slide_type": "subslide"
    }
   },
   "outputs": [],
   "source": [
    "SELECT recall.disable('tableName');"
   ]
  },
  {
   "cell_type": "code",
   "execution_count": null,
   "metadata": {
    "collapsed": true,
    "slideshow": {
     "slide_type": "subslide"
    }
   },
   "outputs": [],
   "source": [
    "SELECT recall.at('myTable', now() - interval '2 months')\n",
    "SELECT * FROM myTable_past;"
   ]
  },
  {
   "cell_type": "code",
   "execution_count": null,
   "metadata": {
    "collapsed": true,
    "slideshow": {
     "slide_type": "subslide"
    }
   },
   "outputs": [],
   "source": [
    "SELECT recall.cleanup('tableName');\n",
    "SELECT recall.cleanup_all();"
   ]
  },
  {
   "cell_type": "markdown",
   "metadata": {
    "slideshow": {
     "slide_type": "slide"
    }
   },
   "source": [
    "## Demo"
   ]
  },
  {
   "cell_type": "markdown",
   "metadata": {
    "slideshow": {
     "slide_type": "fragment"
    }
   },
   "source": [
    "![table schema](/files/blog_tables.png)"
   ]
  },
  {
   "cell_type": "code",
   "execution_count": null,
   "metadata": {
    "collapsed": true
   },
   "outputs": [],
   "source": [
    "BEGIN; -- run all this in a transaction (for predictable timing)"
   ]
  },
  {
   "cell_type": "code",
   "execution_count": null,
   "metadata": {
    "collapsed": false,
    "slideshow": {
     "slide_type": "subslide"
    }
   },
   "outputs": [],
   "source": [
    "CREATE TABLE IF NOT EXISTS account (\n",
    "  uid SERIAL PRIMARY KEY,\n",
    "  created_at TIMESTAMPTZ NOT NULL DEFAULT now(),\n",
    "\n",
    "  name VARCHAR(200) NOT NULL,\n",
    "  login VARCHAR(100) NOT NULL,\n",
    "  password VARCHAR(200) NOT NULL,\n",
    "  email VARCHAR(200) NOT NULL\n",
    ");\n",
    "CREATE UNIQUE INDEX IF NOT EXISTS idx_account_login ON account(lower(login));\n",
    "\n",
    "CREATE TABLE IF NOT EXISTS account_settings (\n",
    "  uid INTEGER NOT NULL,\n",
    "  key VARCHAR(100) NOT NULL,\n",
    "  value TEXT NOT NULL,\n",
    "\n",
    "  PRIMARY KEY (uid, key),\n",
    "  FOREIGN KEY (uid) REFERENCES account(uid)\n",
    ");\n",
    "\n",
    "CREATE TABLE IF NOT EXISTS blog_entry (\n",
    "  entry_id SERIAL PRIMARY KEY,\n",
    "  creator INTEGER NOT NULL,\n",
    "  created_at TIMESTAMPTZ NOT NULL DEFAULT now(),\n",
    "\n",
    "  title VARCHAR(200) NOT NULL,\n",
    "  content TEXT NOT NULL,\n",
    "\n",
    "  FOREIGN KEY (creator) REFERENCES account(uid)\n",
    ");"
   ]
  },
  {
   "cell_type": "markdown",
   "metadata": {
    "slideshow": {
     "slide_type": "subslide"
    }
   },
   "source": [
    "Installation\n",
    "------------\n",
    "\n",
    "run `make install` in the source directory"
   ]
  },
  {
   "cell_type": "code",
   "execution_count": null,
   "metadata": {
    "collapsed": false,
    "slideshow": {
     "slide_type": "fragment"
    }
   },
   "outputs": [],
   "source": [
    "CREATE EXTENSION IF NOT EXISTS btree_gist;\n",
    "CREATE EXTENSION IF NOT EXISTS recall WITH VERSION '0.9.5';\n",
    "\n",
    "SELECT recall.enable('account_settings', '3 months');\n",
    "SELECT recall.enable('blog_entry', '6 months');"
   ]
  },
  {
   "cell_type": "code",
   "execution_count": null,
   "metadata": {
    "collapsed": false,
    "slideshow": {
     "slide_type": "fragment"
    }
   },
   "outputs": [],
   "source": [
    "-- cheating a little\n",
    "CREATE OR REPLACE FUNCTION pretendToWait(t INTERVAL) RETURNS void AS $$\n",
    "  UPDATE recall.account_settings_log SET _log_time = tstzrange(LOWER(_log_time)-t, UPPER(_log_time)-t);\n",
    "  UPDATE recall.blog_entry_log SET _log_time = tstzrange(LOWER(_log_time)-t, UPPER(_log_time)-t);\n",
    "$$ LANGUAGE sql;"
   ]
  },
  {
   "cell_type": "code",
   "execution_count": null,
   "metadata": {
    "collapsed": false,
    "slideshow": {
     "slide_type": "subslide"
    }
   },
   "outputs": [],
   "source": [
    "\\dt"
   ]
  },
  {
   "cell_type": "code",
   "execution_count": null,
   "metadata": {
    "collapsed": false,
    "slideshow": {
     "slide_type": "subslide"
    }
   },
   "outputs": [],
   "source": [
    "\\dt recall"
   ]
  },
  {
   "cell_type": "markdown",
   "metadata": {
    "slideshow": {
     "slide_type": "subslide"
    }
   },
   "source": [
    "### Some data..."
   ]
  },
  {
   "cell_type": "code",
   "execution_count": null,
   "metadata": {
    "collapsed": false,
    "slideshow": {
     "slide_type": "fragment"
    }
   },
   "outputs": [],
   "source": [
    "INSERT INTO account (uid, name, login, password, email)\n",
    "VALUES (12, 'John Doe', 'jdoe', 'very secure password', 'jdoe@example.com')\n",
    "RETURNING uid;"
   ]
  },
  {
   "cell_type": "code",
   "execution_count": null,
   "metadata": {
    "collapsed": false,
    "slideshow": {
     "slide_type": "fragment"
    }
   },
   "outputs": [],
   "source": [
    "INSERT INTO account_settings (uid, key, value) VALUES\n",
    "(12, 'get_newsletter', true),\n",
    "(12, 'enable_spellcheck', false);"
   ]
  },
  {
   "cell_type": "code",
   "execution_count": null,
   "metadata": {
    "collapsed": false,
    "slideshow": {
     "slide_type": "fragment"
    }
   },
   "outputs": [],
   "source": [
    "INSERT INTO blog_entry (entry_id, creator, title, content) VALUES\n",
    "(123, 12, 'Welcome to my new bog', 'This is sooooo super exciting!'),\n",
    "(124, 12, 'House warming party', 'I want to invite you all to my house warming party next tuesday at 123 Some Place')\n",
    "RETURNING entry_id;"
   ]
  },
  {
   "cell_type": "markdown",
   "metadata": {
    "slideshow": {
     "slide_type": "subslide"
    }
   },
   "source": [
    "### Changes"
   ]
  },
  {
   "cell_type": "code",
   "execution_count": null,
   "metadata": {
    "collapsed": false,
    "slideshow": {
     "slide_type": "fragment"
    }
   },
   "outputs": [],
   "source": [
    "-- fix a typo\n",
    "SELECT pretendToWait('5 minutes');\n",
    "UPDATE blog_entry SET title = 'Welcome to my new blog' WHERE entry_id = 123;"
   ]
  },
  {
   "cell_type": "code",
   "execution_count": null,
   "metadata": {
    "collapsed": false,
    "slideshow": {
     "slide_type": "fragment"
    }
   },
   "outputs": [],
   "source": [
    "-- enable spell check to prevent typos in the future\n",
    "SELECT pretendToWait('5 minutes');\n",
    "UPDATE account_settings SET value = true WHERE uid = 12 AND key = 'enable_spellcheck';"
   ]
  },
  {
   "cell_type": "code",
   "execution_count": null,
   "metadata": {
    "collapsed": false,
    "slideshow": {
     "slide_type": "fragment"
    }
   },
   "outputs": [],
   "source": [
    "-- remove the second blog entry\n",
    "SELECT pretendToWait('5 minutes');\n",
    "DELETE FROM blog_entry WHERE entry_id = 124;"
   ]
  },
  {
   "cell_type": "markdown",
   "metadata": {
    "slideshow": {
     "slide_type": "subslide"
    }
   },
   "source": [
    "### Let's have a look"
   ]
  },
  {
   "cell_type": "code",
   "execution_count": null,
   "metadata": {
    "collapsed": false,
    "slideshow": {
     "slide_type": "fragment"
    }
   },
   "outputs": [],
   "source": [
    "SELECT * FROM account;"
   ]
  },
  {
   "cell_type": "code",
   "execution_count": null,
   "metadata": {
    "collapsed": false,
    "slideshow": {
     "slide_type": "fragment"
    }
   },
   "outputs": [],
   "source": [
    "SELECT * FROM account_settings;"
   ]
  },
  {
   "cell_type": "code",
   "execution_count": null,
   "metadata": {
    "collapsed": false,
    "slideshow": {
     "slide_type": "fragment"
    }
   },
   "outputs": [],
   "source": [
    "SELECT * FROM blog_entry;"
   ]
  },
  {
   "cell_type": "markdown",
   "metadata": {
    "slideshow": {
     "slide_type": "subslide"
    }
   },
   "source": [
    "### Going back in time"
   ]
  },
  {
   "cell_type": "code",
   "execution_count": null,
   "metadata": {
    "collapsed": false,
    "slideshow": {
     "slide_type": "fragment"
    }
   },
   "outputs": [],
   "source": [
    "SELECT recall.at('blog_entry', now() - interval '10 minutes');\n",
    "SELECT * FROM blog_entry_past;"
   ]
  },
  {
   "cell_type": "markdown",
   "metadata": {
    "slideshow": {
     "slide_type": "subslide"
    }
   },
   "source": [
    "### Behind the scenes"
   ]
  },
  {
   "cell_type": "code",
   "execution_count": null,
   "metadata": {
    "collapsed": false,
    "slideshow": {
     "slide_type": "fragment"
    }
   },
   "outputs": [],
   "source": [
    "SELECT uid, key, value, _log_time::text FROM recall.account_settings_log;"
   ]
  },
  {
   "cell_type": "code",
   "execution_count": null,
   "metadata": {
    "collapsed": false,
    "slideshow": {
     "slide_type": "fragment"
    }
   },
   "outputs": [],
   "source": [
    "SELECT entry_id, creator, created_at, title, content, _log_time::text FROM recall.blog_entry_log;"
   ]
  },
  {
   "cell_type": "code",
   "execution_count": null,
   "metadata": {
    "collapsed": false,
    "slideshow": {
     "slide_type": "fragment"
    }
   },
   "outputs": [],
   "source": [
    "SELECT * FROM recall._config;"
   ]
  },
  {
   "cell_type": "code",
   "execution_count": null,
   "metadata": {
    "collapsed": false,
    "slideshow": {
     "slide_type": "fragment"
    }
   },
   "outputs": [],
   "source": [
    "ROLLBACK;"
   ]
  },
  {
   "cell_type": "markdown",
   "metadata": {
    "slideshow": {
     "slide_type": "slide"
    }
   },
   "source": [
    "## PostgreSQL features"
   ]
  },
  {
   "cell_type": "markdown",
   "metadata": {
    "slideshow": {
     "slide_type": "subslide"
    }
   },
   "source": [
    "extension support"
   ]
  },
  {
   "cell_type": "markdown",
   "metadata": {
    "slideshow": {
     "slide_type": "subslide"
    }
   },
   "source": [
    "range types"
   ]
  },
  {
   "cell_type": "markdown",
   "metadata": {
    "slideshow": {
     "slide_type": "fragment"
    }
   },
   "source": [
    "- no-overlap"
   ]
  },
  {
   "cell_type": "markdown",
   "metadata": {
    "slideshow": {
     "slide_type": "fragment"
    }
   },
   "source": [
    "- non-empty"
   ]
  },
  {
   "cell_type": "markdown",
   "metadata": {
    "slideshow": {
     "slide_type": "subslide"
    }
   },
   "source": [
    "GiST¹ indexes\n",
    "\n",
    "¹ Generalized Search Tree"
   ]
  },
  {
   "cell_type": "markdown",
   "metadata": {
    "slideshow": {
     "slide_type": "fragment"
    }
   },
   "source": [
    "the `btree_gist` extension contains GiST index implementations for built in types"
   ]
  },
  {
   "cell_type": "markdown",
   "metadata": {
    "slideshow": {
     "slide_type": "subslide"
    }
   },
   "source": [
    "table inheritance"
   ]
  },
  {
   "cell_type": "markdown",
   "metadata": {
    "slideshow": {
     "slide_type": "subslide"
    }
   },
   "source": [
    "`pl/pgsql`"
   ]
  },
  {
   "cell_type": "markdown",
   "metadata": {
    "slideshow": {
     "slide_type": "slide"
    }
   },
   "source": [
    "## Future"
   ]
  },
  {
   "cell_type": "markdown",
   "metadata": {
    "slideshow": {
     "slide_type": "fragment"
    }
   },
   "source": [
    "- automatic partitioning\n",
    "- ports?\n",
    "- ..."
   ]
  },
  {
   "cell_type": "markdown",
   "metadata": {
    "slideshow": {
     "slide_type": "slide"
    }
   },
   "source": [
    "## Similar projects\n",
    "\n",
    "### PostgreSQL\n",
    "\n",
    "- [TimeTravel for PostgreSQL][6] (GNU GPLv3)\n",
    "- [A PL/pgSQL Trigger Procedure For Auditing][7] in the PostgreSQL docs\n",
    "\n",
    "### Others\n",
    "\n",
    "- Temporal queries in SQL:2011\n",
    "- [Oracle FlashBack][8]\n",
    "- [CouchDB's Document Revisions][9]\n",
    "- [EclipseLink JPA History][10]\n",
    "\n",
    "[6]: http://www.databtech.com/eng/index_timetravel.htm\n",
    "[7]: http://www.postgresql.org/docs/current/static/plpgsql-trigger.html#PLPGSQL-TRIGGER-AUDIT-EXAMPLE\n",
    "[8]: https://docs.oracle.com/cd/B28359_01/appdev.111/b28424/adfns_flashback.htm\n",
    "[9]: http://docs.couchdb.org/en/1.6.1/intro/api.html#revisions\n",
    "[10]: https://wiki.eclipse.org/EclipseLink/Examples/JPA/History"
   ]
  },
  {
   "cell_type": "markdown",
   "metadata": {
    "slideshow": {
     "slide_type": "slide"
    }
   },
   "source": [
    "## Questions?\n",
    "\n",
    "feel free to talk to me afterwards, tweet me at [@mreithub][1] or send an email to [manuel@reithuber.net][2]\n",
    "\n",
    "[1]: https://twitter.com/mreithub\n",
    "[2]: mailto:manuel@reithuber.net?subject=pg_recall"
   ]
  }
 ],
 "metadata": {
  "celltoolbar": "Slideshow",
  "kernelspec": {
   "display_name": "PostgreSQL",
   "language": "",
   "name": "postgres"
  },
  "language_info": {
   "mimetype": "text/x-postgresql",
   "name": "sql"
  }
 },
 "nbformat": 4,
 "nbformat_minor": 0
}
