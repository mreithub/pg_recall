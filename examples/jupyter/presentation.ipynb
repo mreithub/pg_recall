{
 "cells": [
  {
   "cell_type": "markdown",
   "metadata": {
    "slideshow": {
     "slide_type": "slide"
    }
   },
   "source": [
    "# pg_recall\n",
    "\n",
    "a time machine for your PostgreSQL data\n",
    "\n",
    "<br/>\n",
    "\n",
    "https://github.com/mreithub/pg_recall/"
   ]
  },
  {
   "cell_type": "code",
   "execution_count": 2,
   "metadata": {
    "collapsed": false,
    "slideshow": {
     "slide_type": "fragment"
    }
   },
   "outputs": [
    {
     "name": "stdout",
     "output_type": "stream",
     "text": [
      "ok"
     ]
    }
   ],
   "source": [
    "\\connect host=localhost user=manuel database=postgres nopassword"
   ]
  },
  {
   "cell_type": "markdown",
   "metadata": {
    "slideshow": {
     "slide_type": "slide"
    }
   },
   "source": [
    "## what it's for"
   ]
  },
  {
   "cell_type": "markdown",
   "metadata": {
    "slideshow": {
     "slide_type": "subslide"
    }
   },
   "source": [
    "keeps track of data changes to your tables"
   ]
  },
  {
   "cell_type": "markdown",
   "metadata": {
    "slideshow": {
     "slide_type": "fragment"
    }
   },
   "source": [
    "- look at past states of your tables"
   ]
  },
  {
   "cell_type": "markdown",
   "metadata": {
    "slideshow": {
     "slide_type": "fragment"
    }
   },
   "source": [
    "- list changes for individual keys"
   ]
  },
  {
   "cell_type": "markdown",
   "metadata": {
    "slideshow": {
     "slide_type": "fragment"
    }
   },
   "source": [
    "- allows you to implement tools to automate that\n",
    " - undo/redo buttons\n",
    " - Revision history page\n",
    " - a backend for customer service where they can see what the user did\n",
    " - look for data/users that behave oddly"
   ]
  },
  {
   "cell_type": "markdown",
   "metadata": {
    "slideshow": {
     "slide_type": "subslide"
    }
   },
   "source": [
    "for...\n",
    "- user data \n",
    "- logging metrics"
   ]
  },
  {
   "cell_type": "markdown",
   "metadata": {
    "slideshow": {
     "slide_type": "fragment"
    }
   },
   "source": [
    "... data that doesn't change *too often*"
   ]
  },
  {
   "cell_type": "markdown",
   "metadata": {
    "slideshow": {
     "slide_type": "slide"
    }
   },
   "source": [
    "## design goals"
   ]
  },
  {
   "cell_type": "markdown",
   "metadata": {
    "slideshow": {
     "slide_type": "subslide"
    }
   },
   "source": [
    "CRUD transparency"
   ]
  },
  {
   "cell_type": "markdown",
   "metadata": {
    "slideshow": {
     "slide_type": "subslide"
    }
   },
   "source": [
    "simplicity"
   ]
  },
  {
   "cell_type": "markdown",
   "metadata": {
    "slideshow": {
     "slide_type": "subslide"
    }
   },
   "source": [
    "flexibility"
   ]
  },
  {
   "cell_type": "markdown",
   "metadata": {
    "slideshow": {
     "slide_type": "subslide"
    }
   },
   "source": [
    "little overhead"
   ]
  },
  {
   "cell_type": "markdown",
   "metadata": {
    "slideshow": {
     "slide_type": "slide"
    }
   },
   "source": [
    "## Demo"
   ]
  },
  {
   "cell_type": "markdown",
   "metadata": {
    "slideshow": {
     "slide_type": "fragment"
    }
   },
   "source": [
    "![table schema](/files/target/blog_tables.png)"
   ]
  },
  {
   "cell_type": "code",
   "execution_count": 35,
   "metadata": {
    "collapsed": false
   },
   "outputs": [
    {
     "name": "stdout",
     "output_type": "stream",
     "text": [
      "ok (took 0.00ms)"
     ]
    }
   ],
   "source": [
    "BEGIN; -- run all this in a transaction (for predictable timing) "
   ]
  },
  {
   "cell_type": "code",
   "execution_count": 36,
   "metadata": {
    "collapsed": false,
    "slideshow": {
     "slide_type": "subslide"
    }
   },
   "outputs": [
    {
     "name": "stdout",
     "output_type": "stream",
     "text": [
      "ok (took 0.00ms)"
     ]
    }
   ],
   "source": [
    "CREATE TABLE IF NOT EXISTS account (\n",
    "  uid SERIAL PRIMARY KEY,\n",
    "  created_at TIMESTAMPTZ NOT NULL DEFAULT now(),\n",
    "\n",
    "  name VARCHAR(200) NOT NULL,\n",
    "  login VARCHAR(100) NOT NULL,\n",
    "  password VARCHAR(200) NOT NULL,\n",
    "  email VARCHAR(200) NOT NULL\n",
    ");\n",
    "CREATE UNIQUE INDEX IF NOT EXISTS idx_account_login ON account(lower(login));\n",
    "\n",
    "CREATE TABLE IF NOT EXISTS account_settings (\n",
    "  uid INTEGER NOT NULL,\n",
    "  key VARCHAR(100) NOT NULL,\n",
    "  value TEXT NOT NULL,\n",
    "\n",
    "  PRIMARY KEY (uid, key),\n",
    "  FOREIGN KEY (uid) REFERENCES account(uid)\n",
    ");\n",
    " §\n",
    "CREATE TABLE IF NOT EXISTS blog_entry (\n",
    "  entry_id SERIAL PRIMARY KEY,\n",
    "  creator INTEGER NOT NULL,\n",
    "  created_at TIMESTAMPTZ NOT NULL DEFAULT now(),\n",
    "\n",
    "  title VARCHAR(200) NOT NULL,\n",
    "  content TEXT NOT NULL,\n",
    "\n",
    "  FOREIGN KEY (creator) REFERENCES account(uid)\n",
    "); "
   ]
  },
  {
   "cell_type": "markdown",
   "metadata": {
    "slideshow": {
     "slide_type": "subslide"
    }
   },
   "source": [
    "Installation\n",
    "------------\n",
    "\n",
    "run `make install` in the source directory"
   ]
  },
  {
   "cell_type": "code",
   "execution_count": 37,
   "metadata": {
    "collapsed": false,
    "slideshow": {
     "slide_type": "fragment"
    }
   },
   "outputs": [
    {
     "data": {
      "text/html": [
       "<table><tr><th>enable</th></tr><tr><td></td></tr></table>"
      ]
     },
     "metadata": {},
     "output_type": "display_data"
    },
    {
     "name": "stdout",
     "output_type": "stream",
     "text": [
      "1 rows (took 0.00ms)"
     ]
    }
   ],
   "source": [
    "CREATE EXTENSION IF NOT EXISTS btree_gist;\n",
    "CREATE EXTENSION IF NOT EXISTS recall WITH VERSION '0.9.5';\n",
    "\n",
    "SELECT recall.enable('account_settings', '3 months');\n",
    "SELECT recall.enable('blog_entry', '6 months');"
   ]
  },
  {
   "cell_type": "code",
   "execution_count": 38,
   "metadata": {
    "collapsed": false,
    "slideshow": {
     "slide_type": "fragment"
    }
   },
   "outputs": [
    {
     "name": "stdout",
     "output_type": "stream",
     "text": [
      "ok (took 0.00ms)"
     ]
    }
   ],
   "source": [
    "-- cheating a little\n",
    "CREATE OR REPLACE FUNCTION pretendToWait(t INTERVAL) RETURNS void AS $$\n",
    "  UPDATE recall.account_settings_log SET _log_time = tstzrange(LOWER(_log_time)-t, UPPER(_log_time)-t);\n",
    "  UPDATE recall.blog_entry_log SET _log_time = tstzrange(LOWER(_log_time)-t, UPPER(_log_time)-t);\n",
    "$$ LANGUAGE sql;"
   ]
  },
  {
   "cell_type": "markdown",
   "metadata": {
    "slideshow": {
     "slide_type": "subslide"
    }
   },
   "source": [
    "### Table inheritance\n",
    "![table schema](/files/target/logAndTpl.png)"
   ]
  },
  {
   "cell_type": "code",
   "execution_count": 7,
   "metadata": {
    "collapsed": false,
    "slideshow": {
     "slide_type": "subslide"
    }
   },
   "outputs": [
    {
     "data": {
      "text/html": [
       "<table><tr><th>Schema</th><th>Name</th><th>Type</th><th>Owner</th></tr><tr><td>public</td><td>account</td><td>table</td><td>manuel</td></tr><tr><td>public</td><td>account_settings</td><td>table</td><td>manuel</td></tr><tr><td>public</td><td>blog_entry</td><td>table</td><td>manuel</td></tr></table>"
      ]
     },
     "metadata": {},
     "output_type": "display_data"
    },
    {
     "name": "stdout",
     "output_type": "stream",
     "text": [
      "3 rows (took 0.00ms)"
     ]
    }
   ],
   "source": [
    "\\dt"
   ]
  },
  {
   "cell_type": "code",
   "execution_count": 8,
   "metadata": {
    "collapsed": false,
    "slideshow": {
     "slide_type": "subslide"
    }
   },
   "outputs": [
    {
     "data": {
      "text/html": [
       "<table><tr><th>Schema</th><th>Name</th><th>Type</th><th>Owner</th></tr><tr><td>recall</td><td>_config</td><td>table</td><td>manuel</td></tr><tr><td>recall</td><td>account_settings_log</td><td>table</td><td>manuel</td></tr><tr><td>recall</td><td>account_settings_tpl</td><td>table</td><td>manuel</td></tr><tr><td>recall</td><td>blog_entry_log</td><td>table</td><td>manuel</td></tr><tr><td>recall</td><td>blog_entry_tpl</td><td>table</td><td>manuel</td></tr></table>"
      ]
     },
     "metadata": {},
     "output_type": "display_data"
    },
    {
     "name": "stdout",
     "output_type": "stream",
     "text": [
      "5 rows (took 0.00ms)"
     ]
    }
   ],
   "source": [
    "\\dt recall"
   ]
  },
  {
   "cell_type": "markdown",
   "metadata": {
    "slideshow": {
     "slide_type": "subslide"
    }
   },
   "source": [
    "### Some data..."
   ]
  },
  {
   "cell_type": "code",
   "execution_count": 39,
   "metadata": {
    "collapsed": false,
    "slideshow": {
     "slide_type": "fragment"
    }
   },
   "outputs": [
    {
     "data": {
      "text/html": [
       "<table><tr><th>uid</th></tr><tr><td>12</td></tr></table>"
      ]
     },
     "metadata": {},
     "output_type": "display_data"
    },
    {
     "name": "stdout",
     "output_type": "stream",
     "text": [
      "1 rows (took 0.00ms)"
     ]
    }
   ],
   "source": [
    "INSERT INTO account (uid, name, login, password, email)\n",
    "VALUES (12, 'John Doe', 'jdoe', 'very secure password', 'jdoe@example.com')\n",
    "RETURNING uid;"
   ]
  },
  {
   "cell_type": "code",
   "execution_count": 40,
   "metadata": {
    "collapsed": false,
    "slideshow": {
     "slide_type": "fragment"
    }
   },
   "outputs": [
    {
     "name": "stdout",
     "output_type": "stream",
     "text": [
      "2 rows (took 0.00ms)"
     ]
    }
   ],
   "source": [
    "INSERT INTO account_settings (uid, key, value) VALUES\n",
    "(12, 'get_newsletter', true),\n",
    "(12, 'enable_spellcheck', false);"
   ]
  },
  {
   "cell_type": "code",
   "execution_count": 41,
   "metadata": {
    "collapsed": false,
    "slideshow": {
     "slide_type": "fragment"
    }
   },
   "outputs": [
    {
     "data": {
      "text/html": [
       "<table><tr><th>entry_id</th></tr><tr><td>123</td></tr><tr><td>124</td></tr></table>"
      ]
     },
     "metadata": {},
     "output_type": "display_data"
    },
    {
     "name": "stdout",
     "output_type": "stream",
     "text": [
      "2 rows (took 0.00ms)"
     ]
    }
   ],
   "source": [
    "INSERT INTO blog_entry (entry_id, creator, title, content) VALUES\n",
    "(123   , 12, 'Welcome to my new bog', 'This is sooooo super exciting!'),\n",
    "(124, 12, 'House warming party', 'I want to invite you all to my house warming party next tuesday at 123 Some Place')\n",
    "RETURNING entry_id;"
   ]
  },
  {
   "cell_type": "markdown",
   "metadata": {
    "slideshow": {
     "slide_type": "subslide"
    }
   },
   "source": [
    "### Changes"
   ]
  },
  {
   "cell_type": "code",
   "execution_count": 42,
   "metadata": {
    "collapsed": false,
    "slideshow": {
     "slide_type": "fragment"
    }
   },
   "outputs": [
    {
     "name": "stdout",
     "output_type": "stream",
     "text": [
      "1 rows (took 0.00ms)"
     ]
    }
   ],
   "source": [
    "-- fix a typo\n",
    "SELECT pretendToWait('5 minutes');\n",
    "UPDATE blog_entry SET title = 'Welcome to my new blog'\n",
    "  WHERE entry_id = 123;"
   ]
  },
  {
   "cell_type": "code",
   "execution_count": 43,
   "metadata": {
    "collapsed": false,
    "slideshow": {
     "slide_type": "fragment"
    }
   },
   "outputs": [
    {
     "name": "stdout",
     "output_type": "stream",
     "text": [
      "1 rows (took 0.00ms)"
     ]
    }
   ],
   "source": [
    "-- enable spell check to prevent typos in the future\n",
    "SELECT pretendToWait('5 minutes');\n",
    "UPDATE account_settings SET value = true\n",
    "  WHERE uid = 12 AND key = 'enable_spellcheck';"
   ]
  },
  {
   "cell_type": "code",
   "execution_count": 44,
   "metadata": {
    "collapsed": false,
    "slideshow": {
     "slide_type": "fragment"
    }
   },
   "outputs": [
    {
     "name": "stdout",
     "output_type": "stream",
     "text": [
      "1 rows (took 0.00ms)"
     ]
    }
   ],
   "source": [
    "-- remove the second blog entry\n",
    "SELECT pretendToWait('5 minutes');\n",
    "DELETE FROM blog_entry WHERE entry_id = 124;"
   ]
  },
  {
   "cell_type": "markdown",
   "metadata": {
    "slideshow": {
     "slide_type": "subslide"
    }
   },
   "source": [
    "### Let's have a look"
   ]
  },
  {
   "cell_type": "code",
   "execution_count": 15,
   "metadata": {
    "collapsed": false,
    "slideshow": {
     "slide_type": "fragment"
    }
   },
   "outputs": [
    {
     "data": {
      "text/html": [
       "<table><tr><th>uid</th><th>created_at</th><th>name</th><th>login</th><th>password</th><th>email</th></tr><tr><td>12</td><td>2016-04-04 20:52:30.577405+02:00</td><td>John Doe</td><td>jdoe</td><td>very secure password</td><td>jdoe@example.com</td></tr></table>"
      ]
     },
     "metadata": {},
     "output_type": "display_data"
    },
    {
     "name": "stdout",
     "output_type": "stream",
     "text": [
      "1 rows (took 0.00ms)"
     ]
    }
   ],
   "source": [
    "SELECT * FROM account;"
   ]
  },
  {
   "cell_type": "code",
   "execution_count": 16,
   "metadata": {
    "collapsed": false,
    "slideshow": {
     "slide_type": "fragment"
    }
   },
   "outputs": [
    {
     "data": {
      "text/html": [
       "<table><tr><th>uid</th><th>key</th><th>value</th></tr><tr><td>12</td><td>get_newsletter</td><td>true</td></tr><tr><td>12</td><td>enable_spellcheck</td><td>true</td></tr></table>"
      ]
     },
     "metadata": {},
     "output_type": "display_data"
    },
    {
     "name": "stdout",
     "output_type": "stream",
     "text": [
      "2 rows (took 0.00ms)"
     ]
    }
   ],
   "source": [
    "SELECT * FROM account_settings;"
   ]
  },
  {
   "cell_type": "code",
   "execution_count": 17,
   "metadata": {
    "collapsed": false,
    "slideshow": {
     "slide_type": "subslide"
    }
   },
   "outputs": [
    {
     "data": {
      "text/html": [
       "<table><tr><th>entry_id</th><th>creator</th><th>created_at</th><th>title</th><th>content</th></tr><tr><td>123</td><td>12</td><td>2016-04-04 20:52:30.577405+02:00</td><td>Welcome to my new blog</td><td>This is sooooo super exciting!</td></tr></table>"
      ]
     },
     "metadata": {},
     "output_type": "display_data"
    },
    {
     "name": "stdout",
     "output_type": "stream",
     "text": [
      "1 rows (took 0.00ms)"
     ]
    }
   ],
   "source": [
    "SELECT * FROM blog_entry;"
   ]
  },
  {
   "cell_type": "markdown",
   "metadata": {
    "slideshow": {
     "slide_type": "subslide"
    }
   },
   "source": [
    "### Going back in time"
   ]
  },
  {
   "cell_type": "code",
   "execution_count": 46,
   "metadata": {
    "collapsed": false,
    "slideshow": {
     "slide_type": "fragment"
    }
   },
   "outputs": [
    {
     "data": {
      "text/html": [
       "<table><tr><th>entry_id</th><th>creator</th><th>created_at</th><th>title</th><th>content</th></tr><tr><td>123</td><td>12</td><td>2016-04-04 21:16:47.405329+02:00</td><td>Welcome to my new blog</td><td>This is sooooo super exciting!</td></tr><tr><td>124</td><td>12</td><td>2016-04-04 21:16:47.405329+02:00</td><td>House warming party</td><td>I want to invite you all to my house warming party next tuesday at 123 Some Place</td></tr></table>"
      ]
     },
     "metadata": {},
     "output_type": "display_data"
    },
    {
     "name": "stdout",
     "output_type": "stream",
     "text": [
      "2 rows (took 0.00ms)"
     ]
    }
   ],
   "source": [
    "SELECT recall.at('blog_entry', now() - interval '10 minutes');\n",
    "SELECT * FROM blog_entry_past;"
   ]
  },
  {
   "cell_type": "markdown",
   "metadata": {
    "slideshow": {
     "slide_type": "subslide"
    }
   },
   "source": [
    "### Behind the scenes"
   ]
  },
  {
   "cell_type": "code",
   "execution_count": 19,
   "metadata": {
    "collapsed": false,
    "slideshow": {
     "slide_type": "fragment"
    }
   },
   "outputs": [
    {
     "data": {
      "text/html": [
       "<table><tr><th>uid</th><th>key</th><th>value</th><th>_log_time</th></tr><tr><td>12</td><td>get_newsletter</td><td>true</td><td>[\"2016-04-04 20:37:30.577405+02\",)</td></tr><tr><td>12</td><td>enable_spellcheck</td><td>false</td><td>[\"2016-04-04 20:37:30.577405+02\",\"2016-04-04 20:47:30.577405+02\")</td></tr><tr><td>12</td><td>enable_spellcheck</td><td>true</td><td>[\"2016-04-04 20:47:30.577405+02\",)</td></tr></table>"
      ]
     },
     "metadata": {},
     "output_type": "display_data"
    },
    {
     "name": "stdout",
     "output_type": "stream",
     "text": [
      "3 rows (took 0.00ms)"
     ]
    }
   ],
   "source": [
    "SELECT uid, key, value, _log_time::text FROM recall.account_settings_log;"
   ]
  },
  {
   "cell_type": "code",
   "execution_count": 20,
   "metadata": {
    "collapsed": false,
    "slideshow": {
     "slide_type": "subslide"
    }
   },
   "outputs": [
    {
     "data": {
      "text/html": [
       "<table><tr><th>entry_id</th><th>creator</th><th>created_at</th><th>title</th><th>content</th><th>_log_time</th></tr><tr><td>123</td><td>12</td><td>2016-04-04 20:52:30.577405+02:00</td><td>Welcome to my new bog</td><td>This is sooooo super exciting!</td><td>[\"2016-04-04 20:37:30.577405+02\",\"2016-04-04 20:42:30.577405+02\")</td></tr><tr><td>123</td><td>12</td><td>2016-04-04 20:52:30.577405+02:00</td><td>Welcome to my new blog</td><td>This is sooooo super exciting!</td><td>[\"2016-04-04 20:42:30.577405+02\",)</td></tr><tr><td>124</td><td>12</td><td>2016-04-04 20:52:30.577405+02:00</td><td>House warming party</td><td>I want to invite you all to my house warming party next tuesday at 123 Some Place</td><td>[\"2016-04-04 20:37:30.577405+02\",\"2016-04-04 20:52:30.577405+02\")</td></tr></table>"
      ]
     },
     "metadata": {},
     "output_type": "display_data"
    },
    {
     "name": "stdout",
     "output_type": "stream",
     "text": [
      "3 rows (took 0.00ms)"
     ]
    }
   ],
   "source": [
    "SELECT entry_id, creator, created_at, title, content, _log_time::text\n",
    "FROM recall.blog_entry_log;"
   ]
  },
  {
   "cell_type": "code",
   "execution_count": 21,
   "metadata": {
    "collapsed": false,
    "slideshow": {
     "slide_type": "subslide"
    }
   },
   "outputs": [
    {
     "data": {
      "text/html": [
       "<table><tr><th>tblid</th><th>ts</th><th>log_interval</th><th>last_cleanup</th><th>pkey_cols</th><th>tpl_table</th><th>log_table</th></tr><tr><td>account_settings</td><td>2016-04-04 20:52:30.577405+02:00</td><td>90 days, 0:00:00</td><td>None</td><td>['uid', 'key']</td><td>recall.account_settings_tpl</td><td>recall.account_settings_log</td></tr><tr><td>blog_entry</td><td>2016-04-04 20:52:30.577405+02:00</td><td>180 days, 0:00:00</td><td>None</td><td>['entry_id']</td><td>recall.blog_entry_tpl</td><td>recall.blog_entry_log</td></tr></table>"
      ]
     },
     "metadata": {},
     "output_type": "display_data"
    },
    {
     "name": "stdout",
     "output_type": "stream",
     "text": [
      "2 rows (took 0.00ms)"
     ]
    }
   ],
   "source": [
    "SELECT * FROM recall._config;"
   ]
  },
  {
   "cell_type": "code",
   "execution_count": 22,
   "metadata": {
    "collapsed": false,
    "slideshow": {
     "slide_type": "fragment"
    }
   },
   "outputs": [
    {
     "name": "stdout",
     "output_type": "stream",
     "text": [
      "ok (took 0.00ms)"
     ]
    }
   ],
   "source": [
    "ROLLBACK; "
   ]
  },
  {
   "cell_type": "markdown",
   "metadata": {
    "slideshow": {
     "slide_type": "slide"
    }
   },
   "source": [
    "## design choices"
   ]
  },
  {
   "cell_type": "markdown",
   "metadata": {
    "slideshow": {
     "slide_type": "subslide"
    }
   },
   "source": [
    "storage is (relatively) cheap\n",
    "- logs rows, not individual fields\n",
    "- detects unchanged rows\n",
    "- each table has a retention interval"
   ]
  },
  {
   "cell_type": "markdown",
   "metadata": {
    "slideshow": {
     "slide_type": "subslide"
    }
   },
   "source": [
    "separate log tables"
   ]
  },
  {
   "cell_type": "markdown",
   "metadata": {
    "slideshow": {
     "slide_type": "subslide"
    }
   },
   "source": [
    "timestamps identify revisions"
   ]
  },
  {
   "cell_type": "code",
   "execution_count": 23,
   "metadata": {
    "collapsed": false,
    "slideshow": {
     "slide_type": "fragment"
    }
   },
   "outputs": [
    {
     "data": {
      "text/html": [
       "<table><tr><th>now</th></tr><tr><td>2016-04-04 21:05:00.405573+02:00</td></tr></table>"
      ]
     },
     "metadata": {},
     "output_type": "display_data"
    },
    {
     "name": "stdout",
     "output_type": "stream",
     "text": [
      "1 rows (took 0.00ms)"
     ]
    }
   ],
   "source": [
    "BEGIN;\n",
    "SELECT now();"
   ]
  },
  {
   "cell_type": "code",
   "execution_count": 31,
   "metadata": {
    "collapsed": false,
    "slideshow": {
     "slide_type": "fragment"
    }
   },
   "outputs": [
    {
     "data": {
      "text/html": [
       "<table><tr><th>now</th></tr><tr><td>2016-04-04 21:05:00.405573+02:00</td></tr></table>"
      ]
     },
     "metadata": {},
     "output_type": "display_data"
    },
    {
     "name": "stdout",
     "output_type": "stream",
     "text": [
      "1 rows (took 0.00ms)"
     ]
    }
   ],
   "source": [
    "SELECT now();  "
   ]
  },
  {
   "cell_type": "code",
   "execution_count": 32,
   "metadata": {
    "collapsed": false,
    "slideshow": {
     "slide_type": "fragment"
    }
   },
   "outputs": [
    {
     "name": "stdout",
     "output_type": "stream",
     "text": [
      "ok (took 0.00ms)"
     ]
    }
   ],
   "source": [
    "ROLLBACK;"
   ]
  },
  {
   "cell_type": "markdown",
   "metadata": {
    "slideshow": {
     "slide_type": "subslide"
    }
   },
   "source": [
    "`tstzrange` as revision identifier"
   ]
  },
  {
   "cell_type": "code",
   "execution_count": 34,
   "metadata": {
    "collapsed": false,
    "slideshow": {
     "slide_type": "fragment"
    }
   },
   "outputs": [
    {
     "data": {
      "text/html": [
       "<table><tr><th>?column?</th></tr><tr><td>True</td></tr></table>"
      ]
     },
     "metadata": {},
     "output_type": "display_data"
    },
    {
     "name": "stdout",
     "output_type": "stream",
     "text": [
      "1 rows (took 0.00ms)"
     ]
    }
   ],
   "source": [
    "SELECT '[2011-01-01,2011-03-01)'::tsrange @> '2011-01-10'::timestamp"
   ]
  },
  {
   "cell_type": "markdown",
   "metadata": {
    "slideshow": {
     "slide_type": "subslide"
    }
   },
   "source": [
    "no constraints in the log table"
   ]
  },
  {
   "cell_type": "markdown",
   "metadata": {
    "slideshow": {
     "slide_type": "slide"
    }
   },
   "source": [
    "## Restrictions"
   ]
  },
  {
   "cell_type": "markdown",
   "metadata": {
    "slideshow": {
     "slide_type": "subslide"
    }
   },
   "source": [
    "it protects user data, not schema changes"
   ]
  },
  {
   "cell_type": "markdown",
   "metadata": {
    "slideshow": {
     "slide_type": "subslide"
    }
   },
   "source": [
    "manual cleanup"
   ]
  },
  {
   "cell_type": "markdown",
   "metadata": {
    "slideshow": {
     "slide_type": "subslide"
    }
   },
   "source": [
    "storage overhead"
   ]
  },
  {
   "cell_type": "markdown",
   "metadata": {
    "slideshow": {
     "slide_type": "subslide"
    }
   },
   "source": [
    "depends on `btree_gist`"
   ]
  },
  {
   "cell_type": "markdown",
   "metadata": {
    "slideshow": {
     "slide_type": "slide"
    }
   },
   "source": [
    "## PostgreSQL features"
   ]
  },
  {
   "cell_type": "markdown",
   "metadata": {
    "slideshow": {
     "slide_type": "subslide"
    }
   },
   "source": [
    "extension support"
   ]
  },
  {
   "cell_type": "markdown",
   "metadata": {
    "slideshow": {
     "slide_type": "subslide"
    }
   },
   "source": [
    "range types"
   ]
  },
  {
   "cell_type": "markdown",
   "metadata": {
    "slideshow": {
     "slide_type": "fragment"
    }
   },
   "source": [
    "- no-overlap"
   ]
  },
  {
   "cell_type": "markdown",
   "metadata": {
    "slideshow": {
     "slide_type": "fragment"
    }
   },
   "source": [
    "- non-empty"
   ]
  },
  {
   "cell_type": "markdown",
   "metadata": {
    "slideshow": {
     "slide_type": "subslide"
    }
   },
   "source": [
    "GiST¹ indexes\n",
    "\n",
    "¹ Generalized Search Tree"
   ]
  },
  {
   "cell_type": "markdown",
   "metadata": {
    "slideshow": {
     "slide_type": "fragment"
    }
   },
   "source": [
    "the `btree_gist` extension contains GiST index implementations for built in types"
   ]
  },
  {
   "cell_type": "markdown",
   "metadata": {
    "slideshow": {
     "slide_type": "subslide"
    }
   },
   "source": [
    "table inheritance"
   ]
  },
  {
   "cell_type": "markdown",
   "metadata": {
    "slideshow": {
     "slide_type": "subslide"
    }
   },
   "source": [
    "`pl/pgsql`"
   ]
  },
  {
   "cell_type": "markdown",
   "metadata": {
    "slideshow": {
     "slide_type": "slide"
    }
   },
   "source": [
    "## Future"
   ]
  },
  {
   "cell_type": "markdown",
   "metadata": {
    "slideshow": {
     "slide_type": "fragment"
    }
   },
   "source": [
    "- automatic partitioning\n",
    "- website\n",
    "- ports?\n",
    "- ..."
   ]
  },
  {
   "cell_type": "markdown",
   "metadata": {
    "slideshow": {
     "slide_type": "slide"
    }
   },
   "source": [
    "## Similar projects\n",
    "\n",
    "### PostgreSQL\n",
    "\n",
    "- [TimeTravel for PostgreSQL][6] (GNU GPLv3)\n",
    "- [A PL/pgSQL Trigger Procedure For Auditing][7] in the PostgreSQL docs\n",
    "\n",
    "### Others\n",
    "\n",
    "- Temporal queries in SQL:2011\n",
    "- [Oracle FlashBack][8]\n",
    "- [CouchDB's Document Revisions][9]\n",
    "- [EclipseLink JPA History][10]\n",
    "\n",
    "[6]: http://www.databtech.com/eng/index_timetravel.htm\n",
    "[7]: http://www.postgresql.org/docs/current/static/plpgsql-trigger.html#PLPGSQL-TRIGGER-AUDIT-EXAMPLE\n",
    "[8]: https://docs.oracle.com/cd/B28359_01/appdev.111/b28424/adfns_flashback.htm\n",
    "[9]: http://docs.couchdb.org/en/1.6.1/intro/api.html#revisions\n",
    "[10]: https://wiki.eclipse.org/EclipseLink/Examples/JPA/History"
   ]
  },
  {
   "cell_type": "markdown",
   "metadata": {
    "slideshow": {
     "slide_type": "slide"
    }
   },
   "source": [
    "## Questions?\n",
    "\n",
    "feel free to talk to me afterwards, tweet me at [@mreithub][1] or send an email to [manuel@reithuber.net][2] .\n",
    "\n",
    "The project's open source and can be found at:\n",
    "https://github.com/mreithub/pg_recall/\n",
    "\n",
    "<br/><br/>  \n",
    "\n",
    "These slides were written using [jupyter.org][3] (extended by [RISE][4] as well as my own [postgres_kernel][5])\n",
    "\n",
    "[1]: https://twitter.com/mreithub\n",
    "[2]: mailto:manuel@reithuber.net?subject=pg_recall\n",
    "[3]: https://jupyter.org\n",
    "[4]: https://github.com/damianavila/RISE/\n",
    "[5]: https://github.com/mreithub/postgres_kernel"
   ]
  },
  {
   "cell_type": "markdown",
   "metadata": {},
   "source": [
    "## Cleanup"
   ]
  },
  {
   "cell_type": "code",
   "execution_count": null,
   "metadata": {
    "collapsed": false,
    "slideshow": {
     "slide_type": "slide"
    }
   },
   "outputs": [],
   "source": [
    "-- cleanup\n",
    "SELECT recall.disable('account_settings');\n",
    "SELECT recall.disable('blog_entry');"
   ]
  },
  {
   "cell_type": "code",
   "execution_count": null,
   "metadata": {
    "collapsed": false
   },
   "outputs": [],
   "source": [
    "DROP TABLE blog_entry, account_settings, account;"
   ]
  }
 ],
 "metadata": {
  "celltoolbar": "Slideshow",
  "kernelspec": {
   "display_name": "PostgreSQL",
   "language": "",
   "name": "postgres"
  },
  "language_info": {
   "mimetype": "text/x-postgresql",
   "name": "sql"
  }
 },
 "nbformat": 4,
 "nbformat_minor": 0
}
